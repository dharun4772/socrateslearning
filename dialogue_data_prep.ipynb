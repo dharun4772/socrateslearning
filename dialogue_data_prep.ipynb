{
 "cells": [
  {
   "cell_type": "code",
   "execution_count": 1,
   "id": "2eea636f",
   "metadata": {},
   "outputs": [],
   "source": [
    "import pandas as pd\n",
    "import numpy as np\n",
    "import langgraph"
   ]
  },
  {
   "cell_type": "code",
   "execution_count": 5,
   "id": "61987a23",
   "metadata": {},
   "outputs": [],
   "source": [
    "data = pd.read_csv(\"data_science_interview_questions.csv\")"
   ]
  },
  {
   "cell_type": "code",
   "execution_count": 7,
   "id": "bd2a2580",
   "metadata": {},
   "outputs": [
    {
     "data": {
      "text/plain": [
       "difficulty\n",
       "Hard      71\n",
       "Medium    65\n",
       "Easy      64\n",
       "Name: count, dtype: int64"
      ]
     },
     "execution_count": 7,
     "metadata": {},
     "output_type": "execute_result"
    }
   ],
   "source": [
    "data.difficulty.value_counts()"
   ]
  },
  {
   "cell_type": "code",
   "execution_count": 9,
   "id": "126e174d",
   "metadata": {},
   "outputs": [
    {
     "data": {
      "text/plain": [
       "category\n",
       "Deep Learning       71\n",
       "Machine Learning    69\n",
       "Statistics          60\n",
       "Name: count, dtype: int64"
      ]
     },
     "execution_count": 9,
     "metadata": {},
     "output_type": "execute_result"
    }
   ],
   "source": [
    "data.category.value_counts()"
   ]
  },
  {
   "cell_type": "code",
   "execution_count": 2,
   "id": "d80fdfc7",
   "metadata": {},
   "outputs": [],
   "source": [
    "from langgraph.graph import StateGraph, END\n",
    "from typing import TypedDict, List, Literal\n",
    "import random\n",
    "\n",
    "# Question types\n",
    "Difficulty = Literal[\"Easy\", \"Medium\", \"Hard\"]\n",
    "Category = Literal[\"Machine Learning\", \"Deep Learning\", \"Statistics\"]\n",
    "\n",
    "# LangGraph state\n",
    "class TeachingState(TypedDict):\n",
    "    question: str\n",
    "    category: Category\n",
    "    difficulty: Difficulty\n",
    "    student_reply: str\n",
    "    teacher_reply: str\n",
    "    dean_feedback: str\n",
    "    revised_teacher_reply: str\n",
    "    cognitive_state: dict\n",
    "\n",
    "# Simulated student agent\n",
    "def student_agent(state: TeachingState) -> TeachingState:\n",
    "    simulated_answers = {\n",
    "        \"Easy\": \"I think it's about averages.\",\n",
    "        \"Medium\": \"Not sure, maybe it's like combining trees?\",\n",
    "        \"Hard\": \"Hmm... does this involve eigenvalues?\"\n",
    "    }\n",
    "    state[\"student_reply\"] = simulated_answers[state[\"difficulty\"]]\n",
    "    return state\n",
    "\n",
    "# Simulated teacher agent (provoking style)\n",
    "def teacher_agent(state: TeachingState) -> TeachingState:\n",
    "    socratic_responses = {\n",
    "        \"Easy\": \"Interesting, but what happens if you consider more examples?\",\n",
    "        \"Medium\": \"You're close—can you relate this to overfitting?\",\n",
    "        \"Hard\": \"Good try—what's the role of assumptions in this context?\"\n",
    "    }\n",
    "    state[\"teacher_reply\"] = socratic_responses[state[\"difficulty\"]]\n",
    "    return state\n",
    "\n",
    "# Dean agent (judges and revises)\n",
    "def dean_agent(state: TeachingState) -> TeachingState:\n",
    "    feedback = \"Too direct\" if \"consider\" not in state[\"teacher_reply\"] else \"Acceptable\"\n",
    "    state[\"dean_feedback\"] = feedback\n",
    "\n",
    "    if feedback == \"Too direct\":\n",
    "        state[\"revised_teacher_reply\"] = \"Instead of answering, reflect: what conditions must be true here?\"\n",
    "    else:\n",
    "        state[\"revised_teacher_reply\"] = state[\"teacher_reply\"]\n",
    "\n",
    "    return state\n",
    "\n",
    "# Cognitive state tracker\n",
    "def cognitive_state_system(state: TeachingState) -> TeachingState:\n",
    "    dimensions = [\"Problem Understanding\", \"Instruction Understanding\", \"Calculation\", \"Knowledge Mastery\", \"Thirst for Learning\"]\n",
    "    state[\"cognitive_state\"] = {dim: random.choice([\"Low\", \"Medium\", \"High\"]) for dim in dimensions}\n",
    "    return state\n"
   ]
  },
  {
   "cell_type": "code",
   "execution_count": 3,
   "id": "6e4b3212",
   "metadata": {},
   "outputs": [],
   "source": [
    "builder = StateGraph(TeachingState)\n",
    "\n",
    "builder.add_node(\"Student\", student_agent)\n",
    "builder.add_node(\"Teacher\", teacher_agent)\n",
    "builder.add_node(\"Dean\", dean_agent)\n",
    "builder.add_node(\"CognitiveState\", cognitive_state_system)\n",
    "\n",
    "# Define edges\n",
    "builder.set_entry_point(\"Student\")\n",
    "builder.add_edge(\"Student\", \"Teacher\")\n",
    "builder.add_edge(\"Teacher\", \"Dean\")\n",
    "builder.add_edge(\"Dean\", \"CognitiveState\")\n",
    "builder.add_edge(\"CognitiveState\", END)\n",
    "\n",
    "graph = builder.compile()"
   ]
  },
  {
   "cell_type": "code",
   "execution_count": 4,
   "id": "2ae403e3",
   "metadata": {},
   "outputs": [
    {
     "name": "stdout",
     "output_type": "stream",
     "text": [
      "{'question': 'What is overfitting in machine learning?', 'category': 'Machine Learning', 'difficulty': 'Easy', 'student_reply': \"I think it's about averages.\", 'teacher_reply': 'Interesting, but what happens if you consider more examples?', 'dean_feedback': 'Acceptable', 'revised_teacher_reply': 'Interesting, but what happens if you consider more examples?', 'cognitive_state': {'Problem Understanding': 'Low', 'Instruction Understanding': 'Low', 'Calculation': 'Low', 'Knowledge Mastery': 'Low', 'Thirst for Learning': 'Low'}}\n"
     ]
    }
   ],
   "source": [
    "sample_state = {\n",
    "    \"question\": \"What is overfitting in machine learning?\",\n",
    "    \"category\": \"Machine Learning\",\n",
    "    \"difficulty\": \"Easy\",\n",
    "    \"student_reply\": \"\",\n",
    "    \"teacher_reply\": \"\",\n",
    "    \"dean_feedback\": \"\",\n",
    "    \"revised_teacher_reply\": \"\",\n",
    "    \"cognitive_state\": {}\n",
    "}\n",
    "\n",
    "output = graph.invoke(sample_state)\n",
    "print(output)\n"
   ]
  },
  {
   "cell_type": "code",
   "execution_count": 5,
   "id": "b928bdf7",
   "metadata": {},
   "outputs": [],
   "source": [
    "def generate_student_reply(question: str, persona: str, model) -> str:\n",
    "    prompt = f\"\"\"\n",
    "You are a data science student with the following traits:\n",
    "- Persona: {persona}\n",
    "- Problem Understanding: {persona_traits[persona][\"Problem Understanding\"]}\n",
    "- Instruction Understanding: {persona_traits[persona][\"Instruction Understanding\"]}\n",
    "- Calculation: {persona_traits[persona][\"Calculation\"]}\n",
    "- Knowledge Mastery: {persona_traits[persona][\"Knowledge Mastery\"]}\n",
    "- Thirst for Learning: {persona_traits[persona][\"Thirst for Learning\"]}\n",
    "\n",
    "Respond to this question with your best attempt: \"{question}\"\n",
    "\"\"\"\n",
    "    return model(prompt)  # Replace with actual model call\n"
   ]
  },
  {
   "cell_type": "code",
   "execution_count": 6,
   "id": "40bd01e0",
   "metadata": {},
   "outputs": [],
   "source": [
    "def generate_teacher_reply(question: str, student_reply: str, model) -> str:\n",
    "    prompt = f\"\"\"\n",
    "As a Socratic teacher, respond to the student reply with a question that encourages deeper thinking and reflection. \n",
    "Don't give the answer directly.\n",
    "\n",
    "Question: \"{question}\"\n",
    "Student's Attempt: \"{student_reply}\"\n",
    "\n",
    "Socratic Response:\n",
    "\"\"\"\n",
    "    return model(prompt)\n"
   ]
  },
  {
   "cell_type": "code",
   "execution_count": 7,
   "id": "e4e7d2aa",
   "metadata": {},
   "outputs": [],
   "source": [
    "def evaluate_teacher_response(question: str, student_reply: str, teacher_reply: str, model) -> dict:\n",
    "    prompt = f\"\"\"\n",
    "Evaluate the teacher's Socratic response below. Does it follow Socratic principles?\n",
    "- It should not give direct answers.\n",
    "- It should guide through inquiry.\n",
    "- It should point out student's misunderstanding if any.\n",
    "\n",
    "Question: \"{question}\"\n",
    "Student: \"{student_reply}\"\n",
    "Teacher: \"{teacher_reply}\"\n",
    "\n",
    "Return:\n",
    "- \"verdict\": \"Acceptable\" or \"Too direct\"\n",
    "- \"revision\": a more Socratic version if needed\n",
    "\"\"\"\n",
    "    return model(prompt)  # Should return a dict\n"
   ]
  },
  {
   "cell_type": "code",
   "execution_count": null,
   "id": "7ec37ff9",
   "metadata": {},
   "outputs": [],
   "source": []
  }
 ],
 "metadata": {
  "kernelspec": {
   "display_name": "myenv",
   "language": "python",
   "name": "python3"
  },
  "language_info": {
   "codemirror_mode": {
    "name": "ipython",
    "version": 3
   },
   "file_extension": ".py",
   "mimetype": "text/x-python",
   "name": "python",
   "nbconvert_exporter": "python",
   "pygments_lexer": "ipython3",
   "version": "3.11.9"
  }
 },
 "nbformat": 4,
 "nbformat_minor": 5
}
